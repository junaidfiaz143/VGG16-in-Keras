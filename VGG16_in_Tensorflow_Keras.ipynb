{
  "nbformat": 4,
  "nbformat_minor": 0,
  "metadata": {
    "colab": {
      "name": "VGG16 in Tensorflow-Keras.ipynb",
      "version": "0.3.2",
      "provenance": [],
      "collapsed_sections": []
    },
    "language_info": {
      "codemirror_mode": {
        "name": "ipython",
        "version": 3
      },
      "file_extension": ".py",
      "mimetype": "text/x-python",
      "name": "python",
      "nbconvert_exporter": "python",
      "pygments_lexer": "ipython3",
      "version": "3.6.8"
    },
    "kernelspec": {
      "name": "python3",
      "display_name": "Python 3"
    },
    "accelerator": "GPU"
  },
  "cells": [
    {
      "cell_type": "code",
      "metadata": {
        "id": "P5gQlN1nj2WY",
        "colab_type": "code",
        "colab": {}
      },
      "source": [
        "# Run this cell to mount your Google Drive.\n",
        "from google.colab import drive\n",
        "drive.mount('/content/drive')"
      ],
      "execution_count": 0,
      "outputs": []
    },
    {
      "cell_type": "code",
      "metadata": {
        "id": "yCYwMxzBZQTF",
        "colab_type": "code",
        "colab": {}
      },
      "source": [
        "import tensorflow as tf\n",
        "import numpy as np\n",
        "from tensorflow.keras.preprocessing.image import ImageDataGenerator\n",
        "from tensorflow.keras.models import Sequential\n",
        "from tensorflow.keras.layers import Conv2D, MaxPool2D, Flatten, Dense, Dropout\n",
        "from tensorflow.keras.optimizers import Adam\n",
        "import matplotlib.pyplot as plt\n",
        "from matplotlib.font_manager import FontProperties\n",
        "from termcolor import colored\n",
        "from sklearn.metrics import confusion_matrix\n",
        "import seaborn as sb"
      ],
      "execution_count": 0,
      "outputs": []
    },
    {
      "cell_type": "code",
      "metadata": {
        "id": "JvYBO5R0ZQTJ",
        "colab_type": "code",
        "colab": {}
      },
      "source": [
        "data_gen = ImageDataGenerator()"
      ],
      "execution_count": 0,
      "outputs": []
    },
    {
      "cell_type": "code",
      "metadata": {
        "id": "JJQQNk-63OGf",
        "colab_type": "code",
        "colab": {}
      },
      "source": [
        "model_params = {\n",
        "    \"batch_size\": 32,\n",
        "    \"epochs\": 15,\n",
        "    \"dropout\": 0.5,\n",
        "    \"learning_rate\": 0.0001\n",
        "}"
      ],
      "execution_count": 0,
      "outputs": []
    },
    {
      "cell_type": "code",
      "metadata": {
        "id": "dc-RWt_6a7Pc",
        "colab_type": "code",
        "colab": {}
      },
      "source": [
        "#preprocessing data (data augmentation)\n",
        "\n",
        "train_data = ImageDataGenerator(\n",
        "    rescale=1./255,\n",
        "    shear_range=0.2,\n",
        "    zoom_range=0.2,\n",
        "    horizontal_flip=True)\n",
        "\n",
        "test_data = ImageDataGenerator(\n",
        "    rescale=1./255,\n",
        "    shear_range=0.2,\n",
        "    zoom_range=0.2,\n",
        "    horizontal_flip=True)\n",
        "\n",
        "val_data = ImageDataGenerator(\n",
        "    rescale=1./255,\n",
        "    shear_range=0.2,\n",
        "    zoom_range=0.2,\n",
        "    horizontal_flip=True)"
      ],
      "execution_count": 0,
      "outputs": []
    },
    {
      "cell_type": "code",
      "metadata": {
        "id": "djFlTOFzzRC1",
        "colab_type": "code",
        "outputId": "8e33e541-1593-4e11-b1e2-674f76719373",
        "colab": {
          "base_uri": "https://localhost:8080/",
          "height": 68
        }
      },
      "source": [
        "train_data = data_gen.flow_from_directory('drive/My Drive/Data/chest x-ray dataset/chest_xray/train/', target_size=(224, 224), class_mode='binary', batch_size=model_params[\"batch_size\"])\n",
        "test_data = data_gen.flow_from_directory('drive/My Drive/Data/chest x-ray dataset/chest_xray/test/', target_size=(224, 224), class_mode='binary', batch_size=model_params[\"batch_size\"])\n",
        "val_data = data_gen.flow_from_directory('drive/My Drive/Data/chest x-ray dataset/chest_xray/val/', target_size=(224, 224), class_mode='binary', batch_size=model_params[\"batch_size\"])"
      ],
      "execution_count": 6,
      "outputs": [
        {
          "output_type": "stream",
          "text": [
            "Found 5056 images belonging to 2 classes.\n",
            "Found 624 images belonging to 2 classes.\n",
            "Found 176 images belonging to 2 classes.\n"
          ],
          "name": "stdout"
        }
      ]
    },
    {
      "cell_type": "code",
      "metadata": {
        "id": "JcCFjfSN2eNc",
        "colab_type": "code",
        "outputId": "e2feee49-ac09-46cd-f2ff-ee1d3aa4c089",
        "colab": {
          "base_uri": "https://localhost:8080/",
          "height": 34
        }
      },
      "source": [
        "print(train_data.class_indices)"
      ],
      "execution_count": 7,
      "outputs": [
        {
          "output_type": "stream",
          "text": [
            "{'NORMAL': 0, 'PNEUMONIA': 1}\n"
          ],
          "name": "stdout"
        }
      ]
    },
    {
      "cell_type": "code",
      "metadata": {
        "id": "laHHFlWWvtyd",
        "colab_type": "code",
        "outputId": "4d2bebd8-7095-4d62-8fbf-4c9e6addabac",
        "colab": {
          "base_uri": "https://localhost:8080/",
          "height": 68
        }
      },
      "source": [
        "#checking training data shape\n",
        "X, y = train_data.next()\n",
        "print(\"Input training data shape: \", X[0].shape)\n",
        "print('Batch shape = %s, min=%.3f, max=%.3f' % (X.shape, X.min(), X.max()))\n",
        "print(y[0])"
      ],
      "execution_count": 8,
      "outputs": [
        {
          "output_type": "stream",
          "text": [
            "Input training data shape:  (224, 224, 3)\n",
            "Batch shape = (32, 224, 224, 3), min=0.000, max=255.000\n",
            "1.0\n"
          ],
          "name": "stdout"
        }
      ]
    },
    {
      "cell_type": "code",
      "metadata": {
        "colab_type": "code",
        "outputId": "8e1070b0-7eee-4806-b4d9-e6aeb3aa0024",
        "id": "pCzctLeqYak0",
        "colab": {
          "base_uri": "https://localhost:8080/",
          "height": 1000
        }
      },
      "source": [
        "# VGG16 architecture\n",
        "\n",
        "model = Sequential(name=\"VGG16 Model\")\n",
        "\n",
        "model.add(Conv2D(64, (3, 3), padding = \"same\", activation = 'relu', input_shape = (224, 224, 3), name=\"Conv_Layer_1\"))\n",
        "model.add(Conv2D(64, (3, 3), padding = \"same\", activation='relu'))\n",
        "model.add(MaxPool2D(pool_size=(2, 2), strides=(2, 2)))\n",
        "model.add(Dropout(model_params[\"dropout\"]))\n",
        "\n",
        "model.add(Conv2D(128, (3, 3), padding = \"same\", activation = 'relu'))\n",
        "model.add(Conv2D(128, (3, 3), padding = \"same\", activation = 'relu'))\n",
        "model.add(MaxPool2D(pool_size=(2, 2), strides=(2, 2)))\n",
        "model.add(Dropout(model_params[\"dropout\"]))\n",
        "\n",
        "model.add(Conv2D(256, (3, 3), padding = \"same\", activation = 'relu'))\n",
        "model.add(Conv2D(256, (3, 3), padding = \"same\", activation = 'relu'))\n",
        "model.add(Conv2D(256, (3, 3), padding = \"same\", activation = 'relu'))\n",
        "model.add(MaxPool2D(pool_size=(2, 2), strides=(2, 2)))\n",
        "model.add(Dropout(model_params[\"dropout\"]))\n",
        "\n",
        "model.add(Conv2D(512, (3, 3), padding = \"same\", activation = 'relu'))\n",
        "model.add(Conv2D(512, (3, 3), padding = \"same\", activation = 'relu'))\n",
        "model.add(Conv2D(512, (3, 3), padding = \"same\", activation = 'relu'))\n",
        "model.add(MaxPool2D(pool_size=(2, 2), strides=(2, 2)))\n",
        "model.add(Dropout(model_params[\"dropout\"]))\n",
        "\n",
        "model.add(Conv2D(512, (3, 3), padding = \"same\", activation = 'relu'))\n",
        "model.add(Conv2D(512, (3, 3), padding = \"same\", activation = 'relu'))\n",
        "model.add(Conv2D(512, (3, 3), padding = \"same\", activation = 'relu'))\n",
        "model.add(MaxPool2D(pool_size=(2, 2), strides=(2, 2)))\n",
        "model.add(Dropout(model_params[\"dropout\"]))\n",
        "\n",
        "model.add(Flatten())\n",
        "model.add(Dense(1024, activation = 'relu'))\n",
        "model.add(Dropout(model_params[\"dropout\"]))\n",
        "model.add(Dense(512, activation = 'relu'))\n",
        "model.add(Dropout(model_params[\"dropout\"]))\n",
        "model.add(Dense(256, activation = 'relu'))\n",
        "model.add(Dropout(model_params[\"dropout\"]))\n",
        "\n",
        "model.add(Dense(1, activation = 'sigmoid'))\n",
        "\n",
        "model.summary()"
      ],
      "execution_count": 9,
      "outputs": [
        {
          "output_type": "stream",
          "text": [
            "WARNING:tensorflow:From /usr/local/lib/python3.6/dist-packages/tensorflow/python/ops/init_ops.py:1251: calling VarianceScaling.__init__ (from tensorflow.python.ops.init_ops) with dtype is deprecated and will be removed in a future version.\n",
            "Instructions for updating:\n",
            "Call initializer instance with the dtype argument instead of passing it to the constructor\n",
            "Model: \"VGG16 Model\"\n",
            "_________________________________________________________________\n",
            "Layer (type)                 Output Shape              Param #   \n",
            "=================================================================\n",
            "Conv_Layer_1 (Conv2D)        (None, 224, 224, 64)      1792      \n",
            "_________________________________________________________________\n",
            "conv2d (Conv2D)              (None, 224, 224, 64)      36928     \n",
            "_________________________________________________________________\n",
            "max_pooling2d (MaxPooling2D) (None, 112, 112, 64)      0         \n",
            "_________________________________________________________________\n",
            "dropout (Dropout)            (None, 112, 112, 64)      0         \n",
            "_________________________________________________________________\n",
            "conv2d_1 (Conv2D)            (None, 112, 112, 128)     73856     \n",
            "_________________________________________________________________\n",
            "conv2d_2 (Conv2D)            (None, 112, 112, 128)     147584    \n",
            "_________________________________________________________________\n",
            "max_pooling2d_1 (MaxPooling2 (None, 56, 56, 128)       0         \n",
            "_________________________________________________________________\n",
            "dropout_1 (Dropout)          (None, 56, 56, 128)       0         \n",
            "_________________________________________________________________\n",
            "conv2d_3 (Conv2D)            (None, 56, 56, 256)       295168    \n",
            "_________________________________________________________________\n",
            "conv2d_4 (Conv2D)            (None, 56, 56, 256)       590080    \n",
            "_________________________________________________________________\n",
            "conv2d_5 (Conv2D)            (None, 56, 56, 256)       590080    \n",
            "_________________________________________________________________\n",
            "max_pooling2d_2 (MaxPooling2 (None, 28, 28, 256)       0         \n",
            "_________________________________________________________________\n",
            "dropout_2 (Dropout)          (None, 28, 28, 256)       0         \n",
            "_________________________________________________________________\n",
            "conv2d_6 (Conv2D)            (None, 28, 28, 512)       1180160   \n",
            "_________________________________________________________________\n",
            "conv2d_7 (Conv2D)            (None, 28, 28, 512)       2359808   \n",
            "_________________________________________________________________\n",
            "conv2d_8 (Conv2D)            (None, 28, 28, 512)       2359808   \n",
            "_________________________________________________________________\n",
            "max_pooling2d_3 (MaxPooling2 (None, 14, 14, 512)       0         \n",
            "_________________________________________________________________\n",
            "dropout_3 (Dropout)          (None, 14, 14, 512)       0         \n",
            "_________________________________________________________________\n",
            "conv2d_9 (Conv2D)            (None, 14, 14, 512)       2359808   \n",
            "_________________________________________________________________\n",
            "conv2d_10 (Conv2D)           (None, 14, 14, 512)       2359808   \n",
            "_________________________________________________________________\n",
            "conv2d_11 (Conv2D)           (None, 14, 14, 512)       2359808   \n",
            "_________________________________________________________________\n",
            "max_pooling2d_4 (MaxPooling2 (None, 7, 7, 512)         0         \n",
            "_________________________________________________________________\n",
            "dropout_4 (Dropout)          (None, 7, 7, 512)         0         \n",
            "_________________________________________________________________\n",
            "flatten (Flatten)            (None, 25088)             0         \n",
            "_________________________________________________________________\n",
            "dense (Dense)                (None, 1024)              25691136  \n",
            "_________________________________________________________________\n",
            "dropout_5 (Dropout)          (None, 1024)              0         \n",
            "_________________________________________________________________\n",
            "dense_1 (Dense)              (None, 512)               524800    \n",
            "_________________________________________________________________\n",
            "dropout_6 (Dropout)          (None, 512)               0         \n",
            "_________________________________________________________________\n",
            "dense_2 (Dense)              (None, 256)               131328    \n",
            "_________________________________________________________________\n",
            "dropout_7 (Dropout)          (None, 256)               0         \n",
            "_________________________________________________________________\n",
            "dense_3 (Dense)              (None, 1)                 257       \n",
            "=================================================================\n",
            "Total params: 41,062,209\n",
            "Trainable params: 41,062,209\n",
            "Non-trainable params: 0\n",
            "_________________________________________________________________\n"
          ],
          "name": "stdout"
        }
      ]
    },
    {
      "cell_type": "code",
      "metadata": {
        "id": "4qXZ1kMfZQT2",
        "colab_type": "code",
        "colab": {
          "base_uri": "https://localhost:8080/",
          "height": 88
        },
        "outputId": "88e5e41c-73ec-4cba-c6e4-23cc53189970"
      },
      "source": [
        "# epochs = 10\n",
        "# lrate = 0.0001\n",
        "decay = model_params[\"learning_rate\"]/model_params[\"epochs\"]\n",
        "\n",
        "adam = Adam(lr=model_params[\"learning_rate\"], beta_1=0.9, beta_2=0.999, epsilon=None, decay=decay, amsgrad=False)\n",
        "\n",
        "model.compile(optimizer = adam,\n",
        "             loss = 'binary_crossentropy',\n",
        "             metrics = ['accuracy'])"
      ],
      "execution_count": 10,
      "outputs": [
        {
          "output_type": "stream",
          "text": [
            "WARNING:tensorflow:From /usr/local/lib/python3.6/dist-packages/tensorflow/python/ops/nn_impl.py:180: add_dispatch_support.<locals>.wrapper (from tensorflow.python.ops.array_ops) is deprecated and will be removed in a future version.\n",
            "Instructions for updating:\n",
            "Use tf.where in 2.0, which has the same broadcast rule as np.where\n"
          ],
          "name": "stdout"
        }
      ]
    },
    {
      "cell_type": "code",
      "metadata": {
        "id": "E3rPy4V1VGVY",
        "colab_type": "code",
        "colab": {}
      },
      "source": [
        "#network details for plotting\n",
        "network_info = []\n",
        "\n",
        "network_info.append([\"PROBLEM TYPE\", \"Binary Classification\"])\n",
        "network_info.append([\"OPTIMIZER\", \"Adam\"])\n",
        "network_info.append([\"BATCH SIZE\", model_params[\"batch_size\"]])\n",
        "network_info.append([\"DATA AUGMENTATION\", \"test/train/val\"])\n",
        "network_info.append([\"DENSE ARCHITECTURE\", \"1024 -> 512 -> 256 -> 1\"])\n",
        "network_info.append([\"DROPOUT\", model_params[\"dropout\"]])\n",
        "network_info.append([\"EPOCHS\", model_params[\"epochs\"]])\n",
        "network_info.append([\"LEARNING RATE\", model_params[\"learning_rate\"]])\n",
        "network_info.append([\"DECAY\", \"lrate/epochs\"])\n",
        "network_info.append([\"BETA_1\", 0.9])\n",
        "network_info.append([\"BETA_2\", 0.999])\n",
        "network_info.append([\"EPSILON\", \"None\"])"
      ],
      "execution_count": 0,
      "outputs": []
    },
    {
      "cell_type": "code",
      "metadata": {
        "id": "h9qeF62L6eNJ",
        "colab_type": "code",
        "colab": {}
      },
      "source": [
        "def display_acc_loss(history, plot_name, network_details):\n",
        "  plt.figure(1, figsize=(20, 10))\n",
        "\n",
        "  #plot train and validation acc\n",
        "  plt.subplot(221)\n",
        "  plt.plot(history.history['acc'], 'o-')\n",
        "  plt.plot(history.history['val_acc'], 's-')\n",
        "  plt.title(\"VGG16 Model Accuracy\")\n",
        "  plt.xlabel(\"epochs\")\n",
        "  plt.ylabel(\"accuracy\")\n",
        "  plt.legend([\"train acc\", \"val acc\"], loc=\"upper left\")\n",
        "  plt.grid()\n",
        "\n",
        "  #plot train and validation loss\n",
        "  plt.subplot(222)\n",
        "  plt.plot(history.history['loss'], 'o-')\n",
        "  plt.plot(history.history['val_loss'], 's-')\n",
        "  plt.title(\"VGG16 Model Loss\")\n",
        "  plt.xlabel(\"epochs\")\n",
        "  plt.ylabel(\"loss\")\n",
        "  plt.legend([\"train loss\", \"val loss\"], loc=\"upper right\")\n",
        "  plt.grid()\n",
        "  \n",
        "  #plot network informnation\n",
        "  ax = plt.subplot(223)\n",
        "\n",
        "  the_table = plt.table(cellText=network_details, colWidths=[0.5] * 3, colLabels=['Name', 'Value'], cellLoc='center', loc='center')\n",
        "  the_table.auto_set_font_size(False)\n",
        "  the_table.set_fontsize(12)\n",
        "\n",
        "  for (row, col), cell in the_table.get_celld().items():\n",
        "    if (row == 0) or (col == -1):\n",
        "      cell.set_text_props(fontproperties=FontProperties(weight='bold'))\n",
        "    cell.set_height(.07)\n",
        "  \n",
        "  ax.axis(\"off\")\n",
        "  \n",
        "  #plot no. of images\n",
        "  N = 3\n",
        "  ind = np.arange(N)  # the x locations for the groups\n",
        "  width = 0.3       # the width of the bars\n",
        "\n",
        "  ax = plt.subplot(224)\n",
        "\n",
        "  normal_images = [1261, 88, 234]\n",
        "  bar_normal = ax.bar(ind, normal_images, width)\n",
        "\n",
        "  pneumonia_images = [3795, 88, 390]\n",
        "  bar_pneumonia = ax.bar(ind+width, pneumonia_images, width)\n",
        "  \n",
        "  plt.ylim(0, 5000)\n",
        "  plt.grid()\n",
        "  ax.set_ylabel('No. of Imgaes')\n",
        "  ax.set_xticks(ind+width/2)\n",
        "  ax.set_xticklabels( ('Training Data', 'Validation Data', 'Test Data') )\n",
        "  ax.legend( (bar_normal, bar_pneumonia), ('NORMAL', 'PNEUMONIA') )\n",
        "  \n",
        "  def autolabel(bars):\n",
        "    for bar in bars:\n",
        "      ax.text(bar.get_x()+bar.get_width()/2., bar.get_height()+50, \"%d\"%int(bar.get_height()),  ha=\"center\", va=\"bottom\")\n",
        "      \n",
        "  autolabel(bar_normal)\n",
        "  autolabel(bar_pneumonia)\n",
        "  \n",
        "  plt.savefig(plot_name)\n",
        "\n",
        "  plt.show()"
      ],
      "execution_count": 0,
      "outputs": []
    },
    {
      "cell_type": "code",
      "metadata": {
        "id": "qzH2LmzuZQT-",
        "colab_type": "code",
        "outputId": "133fa1bf-e77a-446b-dc1f-967b9a138bef",
        "colab": {
          "base_uri": "https://localhost:8080/",
          "height": 1000
        }
      },
      "source": [
        "#another try\n",
        "history = model.fit_generator(train_data,\n",
        "        steps_per_epoch=train_data.n//train_data.batch_size,\n",
        "        epochs=model_params[\"epochs\"],\n",
        "        validation_data=val_data,\n",
        "        validation_steps=val_data.n//val_data.batch_size)\n",
        "\n",
        "#another try\n",
        "# history = model.fit_generator(\n",
        "#         train_data,\n",
        "#         epochs=epochs,\n",
        "#         validation_data=val_data)\n",
        "\n",
        "model_eval = model.evaluate_generator(test_data)\n",
        "evaluation = \"Loss: %0.2f - Accuracy: %0.3f\" % (model_eval[0] , model_eval[1])\n",
        "\n",
        "network_info.append([\"EVALUATION\", evaluation])\n",
        "\n",
        "display_acc_loss(history, \"plot.png\", network_info)"
      ],
      "execution_count": 13,
      "outputs": [
        {
          "output_type": "stream",
          "text": [
            "Epoch 1/15\n",
            "158/158 [==============================] - 1495s 9s/step - loss: 0.8158 - acc: 0.7174 - val_loss: 0.6958 - val_acc: 0.5063\n",
            "Epoch 2/15\n",
            "158/158 [==============================] - 141s 894ms/step - loss: 0.5881 - acc: 0.7498 - val_loss: 0.6970 - val_acc: 0.5063\n",
            "Epoch 3/15\n",
            "158/158 [==============================] - 141s 894ms/step - loss: 0.5774 - acc: 0.7504 - val_loss: 0.7002 - val_acc: 0.5063\n",
            "Epoch 4/15\n",
            "158/158 [==============================] - 142s 897ms/step - loss: 0.5683 - acc: 0.7506 - val_loss: 0.7000 - val_acc: 0.5063\n",
            "Epoch 5/15\n",
            "158/158 [==============================] - 142s 896ms/step - loss: 0.4633 - acc: 0.7799 - val_loss: 0.5722 - val_acc: 0.7125\n",
            "Epoch 6/15\n",
            "158/158 [==============================] - 141s 895ms/step - loss: 0.2528 - acc: 0.8934 - val_loss: 0.3694 - val_acc: 0.8687\n",
            "Epoch 7/15\n",
            "158/158 [==============================] - 141s 894ms/step - loss: 0.1750 - acc: 0.9369 - val_loss: 0.3547 - val_acc: 0.8687\n",
            "Epoch 8/15\n",
            "158/158 [==============================] - 141s 893ms/step - loss: 0.1415 - acc: 0.9508 - val_loss: 0.4263 - val_acc: 0.8250\n",
            "Epoch 9/15\n",
            "158/158 [==============================] - 141s 893ms/step - loss: 0.1362 - acc: 0.9555 - val_loss: 0.2914 - val_acc: 0.8875\n",
            "Epoch 10/15\n",
            "158/158 [==============================] - 141s 892ms/step - loss: 0.1173 - acc: 0.9587 - val_loss: 0.3423 - val_acc: 0.8687\n",
            "Epoch 11/15\n",
            "158/158 [==============================] - 141s 892ms/step - loss: 0.1113 - acc: 0.9610 - val_loss: 0.2677 - val_acc: 0.8687\n",
            "Epoch 12/15\n",
            "158/158 [==============================] - 141s 892ms/step - loss: 0.1028 - acc: 0.9660 - val_loss: 0.2882 - val_acc: 0.8750\n",
            "Epoch 13/15\n",
            "158/158 [==============================] - 141s 892ms/step - loss: 0.1134 - acc: 0.9640 - val_loss: 0.2805 - val_acc: 0.9000\n",
            "Epoch 14/15\n",
            "158/158 [==============================] - 141s 892ms/step - loss: 0.1022 - acc: 0.9656 - val_loss: 0.2321 - val_acc: 0.9000\n",
            "Epoch 15/15\n",
            "158/158 [==============================] - 141s 890ms/step - loss: 0.0866 - acc: 0.9689 - val_loss: 0.2989 - val_acc: 0.8875\n"
          ],
          "name": "stdout"
        },
        {
          "output_type": "display_data",
          "data": {
            "image/png": "[encoded data removed]",
            "text/plain": [
              "<Figure size 1440x720 with 4 Axes>"
            ]
          },
          "metadata": {
            "tags": []
          }
        }
      ]
    },
    {
      "cell_type": "code",
      "metadata": {
        "id": "vxoI0N5SUhpg",
        "colab_type": "code",
        "colab": {
          "base_uri": "https://localhost:8080/",
          "height": 102
        },
        "outputId": "8bf2d37a-64f9-4a23-eb1f-57a64e7a099b"
      },
      "source": [
        "#check predictions\n",
        "print(\"Try some predictions\")\n",
        "print(\"original value: \", y[0], \" - prediction value\", model.predict(X)[0])\n",
        "print(\"original value: \", y[1], \" - prediction value\", model.predict(X)[1])\n",
        "print(\"original value: \", y[2], \" - prediction value\", model.predict(X)[2])\n",
        "print(\"original value: \", y[3], \" - prediction value\", model.predict(X)[3])"
      ],
      "execution_count": 14,
      "outputs": [
        {
          "output_type": "stream",
          "text": [
            "Try some predictions\n",
            "original value:  1.0  - prediction value [0.99790394]\n",
            "original value:  0.0  - prediction value [0.05024463]\n",
            "original value:  1.0  - prediction value [0.99968445]\n",
            "original value:  1.0  - prediction value [0.99990314]\n"
          ],
          "name": "stdout"
        }
      ]
    },
    {
      "cell_type": "code",
      "metadata": {
        "id": "HoBeslIfAGdM",
        "colab_type": "code",
        "colab": {}
      },
      "source": [
        "model.save(\"model.h5\")"
      ],
      "execution_count": 0,
      "outputs": []
    },
    {
      "cell_type": "code",
      "metadata": {
        "id": "RXCrCK9UCPE0",
        "colab_type": "code",
        "colab": {}
      },
      "source": [
        "# tfjs.converters.save_keras_model(model, \".\")"
      ],
      "execution_count": 0,
      "outputs": []
    },
    {
      "cell_type": "code",
      "metadata": {
        "id": "MLpfeKa2bFNq",
        "colab_type": "code",
        "outputId": "f92b340b-7c4c-4539-cb7f-b52b18d3c0c9",
        "colab": {
          "base_uri": "https://localhost:8080/",
          "height": 51
        }
      },
      "source": [
        "y_pred = model.predict(X)\n",
        "\n",
        "y_hat = []\n",
        "\n",
        "for i in range(len(y_pred)):\n",
        "  y_hat.append(round(y_pred[i][0]))\n",
        "  \n",
        "print(confusion_matrix(y, y_hat))"
      ],
      "execution_count": 15,
      "outputs": [
        {
          "output_type": "stream",
          "text": [
            "[[ 7  0]\n",
            " [ 0 25]]\n"
          ],
          "name": "stdout"
        }
      ]
    },
    {
      "cell_type": "code",
      "metadata": {
        "id": "9ufKLoDQQs52",
        "colab_type": "code",
        "outputId": "5339457c-291d-4e92-adff-6d2b5b6ebd61",
        "colab": {
          "base_uri": "https://localhost:8080/",
          "height": 34
        }
      },
      "source": [
        "cm = tf.contrib.metrics.confusion_matrix(y, y_pred, num_classes=2, dtype=tf.dtypes.float32, name=None, weights=None)\n",
        "print(cm)\n",
        "\n",
        "# print(tf.contrib.metrics.confusion_matrix(y, y_hat))"
      ],
      "execution_count": 53,
      "outputs": [
        {
          "output_type": "stream",
          "text": [
            "Tensor(\"confusion_matrix_26/SparseTensorDenseAdd:0\", shape=(2, 2), dtype=float32)\n"
          ],
          "name": "stdout"
        }
      ]
    },
    {
      "cell_type": "code",
      "metadata": {
        "id": "Bu48TjQbpB56",
        "colab_type": "code",
        "outputId": "86ceff11-a7bf-4ac5-f149-3f65b6f03ce0",
        "colab": {
          "base_uri": "https://localhost:8080/",
          "height": 680
        }
      },
      "source": [
        "tp = 0\n",
        "tn = 0\n",
        "fp = 0\n",
        "fn = 0\n",
        "\n",
        "for i in range(32):\n",
        "  if y[i] == 1. and y_hat[i] == 1.:\n",
        "    print(colored(\"TRUE POSITIVE\", \"green\"))\n",
        "    tp+=1\n",
        "  elif y[i] == 1 and y_hat[i] == 0.:\n",
        "    print(colored(\"FALSE NEGATIVE\", \"red\"))\n",
        "    fn+=1\n",
        "  elif y[i] == 0. and y_hat[i] == 0.:\n",
        "    print(colored(\"TRUE NEGATIVE\", \"yellow\"))\n",
        "    tn+=1\n",
        "  elif y[i] == 0 and y_hat[i] == 1.:\n",
        "    print(colored(\"FALSE POSITIVE\", \"red\"))\n",
        "    fp+=1\n",
        "    \n",
        "print('\\x1b[6;30;47m' + \"+---------------------+\" + '\\x1b[0m')\n",
        "print(colored(\"Total TRUE POSITIVE: {}\".format(tp), \"green\"))\n",
        "print(colored(\"Total TRUE NEGATIVE: {}\".format(tn), \"yellow\"))\n",
        "print(colored(\"Total FALSE POSITIVE: {}\".format(fp), \"red\"))\n",
        "print(colored(\"Total FALSE NEGATIVE: {}\".format(fn), \"red\"))\n",
        "print('\\x1b[6;30;47m' + \"+---------------------+\" + '\\x1b[0m')\n",
        "\n",
        "print('\\x1b[6;30;47m' + \"[NOTE]: most case sensitive FALSE NEGATIVE.\" + '\\x1b[0m')"
      ],
      "execution_count": 69,
      "outputs": [
        {
          "output_type": "stream",
          "text": [
            "\u001b[32mTRUE POSITIVE\u001b[0m\n",
            "\u001b[33mTRUE NEGATIVE\u001b[0m\n",
            "\u001b[32mTRUE POSITIVE\u001b[0m\n",
            "\u001b[32mTRUE POSITIVE\u001b[0m\n",
            "\u001b[33mTRUE NEGATIVE\u001b[0m\n",
            "\u001b[32mTRUE POSITIVE\u001b[0m\n",
            "\u001b[32mTRUE POSITIVE\u001b[0m\n",
            "\u001b[32mTRUE POSITIVE\u001b[0m\n",
            "\u001b[32mTRUE POSITIVE\u001b[0m\n",
            "\u001b[33mTRUE NEGATIVE\u001b[0m\n",
            "\u001b[32mTRUE POSITIVE\u001b[0m\n",
            "\u001b[32mTRUE POSITIVE\u001b[0m\n",
            "\u001b[32mTRUE POSITIVE\u001b[0m\n",
            "\u001b[33mTRUE NEGATIVE\u001b[0m\n",
            "\u001b[32mTRUE POSITIVE\u001b[0m\n",
            "\u001b[32mTRUE POSITIVE\u001b[0m\n",
            "\u001b[32mTRUE POSITIVE\u001b[0m\n",
            "\u001b[32mTRUE POSITIVE\u001b[0m\n",
            "\u001b[33mTRUE NEGATIVE\u001b[0m\n",
            "\u001b[32mTRUE POSITIVE\u001b[0m\n",
            "\u001b[32mTRUE POSITIVE\u001b[0m\n",
            "\u001b[32mTRUE POSITIVE\u001b[0m\n",
            "\u001b[32mTRUE POSITIVE\u001b[0m\n",
            "\u001b[32mTRUE POSITIVE\u001b[0m\n",
            "\u001b[32mTRUE POSITIVE\u001b[0m\n",
            "\u001b[32mTRUE POSITIVE\u001b[0m\n",
            "\u001b[33mTRUE NEGATIVE\u001b[0m\n",
            "\u001b[32mTRUE POSITIVE\u001b[0m\n",
            "\u001b[32mTRUE POSITIVE\u001b[0m\n",
            "\u001b[33mTRUE NEGATIVE\u001b[0m\n",
            "\u001b[32mTRUE POSITIVE\u001b[0m\n",
            "\u001b[32mTRUE POSITIVE\u001b[0m\n",
            "\u001b[6;30;47m+---------------------+\u001b[0m\n",
            "\u001b[32mTotal TRUE POSITIVE: 25\u001b[0m\n",
            "\u001b[33mTotal TRUE NEGATIVE: 7\u001b[0m\n",
            "\u001b[31mTotal FALSE POSITIVE: 0\u001b[0m\n",
            "\u001b[31mTotal FALSE NEGATIVE: 0\u001b[0m\n",
            "\u001b[6;30;47m+---------------------+\u001b[0m\n",
            "\u001b[6;30;47m[NOTE]: most case sensitive FALSE NEGATIVE.\u001b[0m\n"
          ],
          "name": "stdout"
        }
      ]
    },
    {
      "cell_type": "code",
      "metadata": {
        "id": "rGfk5aU9o9Ex",
        "colab_type": "code",
        "outputId": "8334e8e1-dbac-433e-c8f7-c21f68d93e0b",
        "colab": {
          "base_uri": "https://localhost:8080/",
          "height": 295
        }
      },
      "source": [
        "cm_plot = sb.heatmap(uniform_data, annot=True, annot_kws={\"size\": 16})\n",
        "cm_plot.set(xlabel='predicted', ylabel='actual', title=\"Confusion Matrix VGG16\")\n",
        "plt.savefig(\"cm.png\")\n",
        "plt.show()"
      ],
      "execution_count": 111,
      "outputs": [
        {
          "output_type": "display_data",
          "data": {
            "image/png": "[encoded data removed]",
            "text/plain": [
              "<Figure size 432x288 with 2 Axes>"
            ]
          },
          "metadata": {
            "tags": []
          }
        }
      ]
    },
    {
      "cell_type": "code",
      "metadata": {
        "id": "7cXNqeEaH54B",
        "colab_type": "code",
        "colab": {}
      },
      "source": [
        ""
      ],
      "execution_count": 0,
      "outputs": []
    }
  ]
}